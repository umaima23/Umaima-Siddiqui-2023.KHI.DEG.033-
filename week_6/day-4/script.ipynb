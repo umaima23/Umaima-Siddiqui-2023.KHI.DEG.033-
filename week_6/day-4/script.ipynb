{
 "cells": [
  {
   "cell_type": "markdown",
   "id": "702c03a1-bdf0-4eaf-8ba6-fb166f13291f",
   "metadata": {},
   "source": [
    "# Installing pandas and pyarrow\n",
    "## Used for data manipulation and analysis, particularly in the context of working with tabular data. "
   ]
  },
  {
   "cell_type": "code",
   "execution_count": 1,
   "id": "950be485-8242-4b42-9d53-79c1915bc5f0",
   "metadata": {
    "tags": []
   },
   "outputs": [
    {
     "name": "stdout",
     "output_type": "stream",
     "text": [
      "Requirement already satisfied: pandas in /home/all/anaconda3/lib/python3.10/site-packages (1.5.1)\n",
      "Requirement already satisfied: pyarrow in /home/all/anaconda3/lib/python3.10/site-packages (11.0.0)\n",
      "Requirement already satisfied: numpy>=1.21.0 in /home/all/anaconda3/lib/python3.10/site-packages (from pandas) (1.23.5)\n",
      "Requirement already satisfied: python-dateutil>=2.8.1 in /home/all/.local/lib/python3.10/site-packages (from pandas) (2.8.2)\n",
      "Requirement already satisfied: pytz>=2020.1 in /home/all/anaconda3/lib/python3.10/site-packages (from pandas) (2022.7)\n",
      "Requirement already satisfied: six>=1.5 in /home/all/anaconda3/lib/python3.10/site-packages (from python-dateutil>=2.8.1->pandas) (1.16.0)\n"
     ]
    }
   ],
   "source": [
    "!pip install pandas pyarrow"
   ]
  },
  {
   "cell_type": "code",
   "execution_count": 2,
   "id": "995831f4-0904-482d-89fe-93315a6ec5f8",
   "metadata": {
    "tags": []
   },
   "outputs": [],
   "source": [
    "import pandas as pd"
   ]
  },
  {
   "cell_type": "markdown",
   "id": "ac908cb9-8318-49e0-8f62-814629cb3c25",
   "metadata": {},
   "source": [
    "# Converting parquet file to csv file format to read the dataset"
   ]
  },
  {
   "cell_type": "code",
   "execution_count": 5,
   "id": "8e3f83d4-e8fb-4b99-9b67-366920f185aa",
   "metadata": {
    "tags": []
   },
   "outputs": [
    {
     "name": "stdout",
     "output_type": "stream",
     "text": [
      "Converted data/output_data/employee_earnings/earnings_date=2022-02-10/employee_earnings.parquet to data/data_csv/output1.csv\n",
      "Converted data/output_data/employee_earnings/earnings_date=2022-02-11/employee_earnings.parquet to data/data_csv/output2.csv\n",
      "Converted data/output_data/employee_earnings/earnings_date=2022-02-12/employee_earnings.parquet to data/data_csv/output3.csv\n",
      "Converted data/output_data/employee_earnings/earnings_date=2022-02-13/employee_earnings.parquet to data/data_csv/output4.csv\n",
      "Converted data/output_data/employee_earnings/earnings_date=2022-02-14/employee_earnings.parquet to data/data_csv/output5.csv\n"
     ]
    }
   ],
   "source": [
    "import pandas as pd\n",
    "\n",
    "def convert_parquet_to_csv(parquet_file, csv_file):\n",
    "    df = pd.read_parquet(parquet_file)\n",
    "    df.to_csv(csv_file, index=False)\n",
    "    print(f\"Converted {parquet_file} to {csv_file}\")\n",
    "\n",
    "convert_parquet_to_csv('data/output_data/employee_earnings/earnings_date=2022-02-10/employee_earnings.parquet', 'data/data_csv/output1.csv')\n",
    "convert_parquet_to_csv('data/output_data/employee_earnings/earnings_date=2022-02-11/employee_earnings.parquet', 'data/data_csv/output2.csv')\n",
    "convert_parquet_to_csv('data/output_data/employee_earnings/earnings_date=2022-02-12/employee_earnings.parquet', 'data/data_csv/output3.csv')\n",
    "convert_parquet_to_csv('data/output_data/employee_earnings/earnings_date=2022-02-13/employee_earnings.parquet', 'data/data_csv/output4.csv')\n",
    "convert_parquet_to_csv('data/output_data/employee_earnings/earnings_date=2022-02-14/employee_earnings.parquet', 'data/data_csv/output5.csv')"
   ]
  },
  {
   "cell_type": "markdown",
   "id": "acbd967a-9aa5-4200-8321-5c28fc20dcd9",
   "metadata": {},
   "source": [
    "## Creating two new files by summing the earning column of previous two Dataframes"
   ]
  },
  {
   "cell_type": "markdown",
   "id": "acda0b6c-d4dd-4628-81f3-b5ac169b8de4",
   "metadata": {},
   "source": [
    "### For file 1"
   ]
  },
  {
   "cell_type": "code",
   "execution_count": 6,
   "id": "18dab283-d76c-4184-b24a-458829fa35b7",
   "metadata": {
    "tags": []
   },
   "outputs": [
    {
     "name": "stdout",
     "output_type": "stream",
     "text": [
      "Sum data written to data/output_data/employee_earnings/earnings_date=2022-02-15/employee_earnings.csv\n"
     ]
    }
   ],
   "source": [
    "import pandas as pd\n",
    "\n",
    "def calculate_sum_csv_files(file1, file2, output_file):\n",
    "    # Read the input CSV files\n",
    "    df1 = pd.read_csv(file1)\n",
    "    df2 = pd.read_csv(file2)\n",
    "\n",
    "    sum_column = df1['earnings'] + df2['earnings'] \n",
    "\n",
    "    new_df = df1.copy()\n",
    "    new_df['earnings'] = sum_column\n",
    "    new_df = new_df[[col for col in new_df.columns if col != 'earnings'] + ['earnings']]\n",
    "\n",
    "    new_df.to_csv(output_file, index=False)\n",
    "    print(f\"Sum data written to {output_file}\")\n",
    "\n",
    "# Example usage\n",
    "file1 = 'data/data_csv/output1.csv'\n",
    "file2 = 'data/data_csv/output2.csv'\n",
    "output_file = 'data/output_data/employee_earnings/earnings_date=2022-02-15/employee_earnings.csv'\n",
    "calculate_sum_csv_files(file1, file2, output_file)\n"
   ]
  },
  {
   "cell_type": "markdown",
   "id": "188d38b4-a946-434e-a50c-96e0ed32bfbd",
   "metadata": {},
   "source": [
    "### For file 2"
   ]
  },
  {
   "cell_type": "code",
   "execution_count": 7,
   "id": "cc24d9b6-3247-4959-9384-918142770c04",
   "metadata": {
    "tags": []
   },
   "outputs": [
    {
     "name": "stdout",
     "output_type": "stream",
     "text": [
      "Sum data written to data/output_data/employee_earnings/earnings_date=2022-02-16/employee_earnings.csv\n"
     ]
    }
   ],
   "source": [
    "file1 = 'data/data_csv/output3.csv'\n",
    "file2 = 'data/data_csv/output4.csv'\n",
    "output_file = 'data/output_data/employee_earnings/earnings_date=2022-02-16/employee_earnings.csv'\n",
    "calculate_sum_csv_files(file1, file2, output_file)\n"
   ]
  },
  {
   "cell_type": "markdown",
   "id": "1e47c335-16ed-4b48-985d-b6339fbdf065",
   "metadata": {},
   "source": [
    "## Converting csv file to parquet file format "
   ]
  },
  {
   "cell_type": "code",
   "execution_count": 8,
   "id": "a325e9a8-d5db-4a88-b3fc-a1a4816c2b90",
   "metadata": {
    "tags": []
   },
   "outputs": [
    {
     "name": "stdout",
     "output_type": "stream",
     "text": [
      "Converted data/output_data/employee_earnings/earnings_date=2022-02-15/employee_earnings.csv to data/output_data/employee_earnings/earnings_date=2022-02-15/employee_earnings.parquet\n"
     ]
    }
   ],
   "source": [
    "import pandas as pd\n",
    "import pyarrow as pa\n",
    "import pyarrow.parquet as pq\n",
    "\n",
    "def convert_csv_to_parquet(csv_file, parquet_file):\n",
    "    df = pd.read_csv(csv_file)\n",
    "\n",
    "    # Convert the DataFrame to a PyArrow Table\n",
    "    table = pa.Table.from_pandas(df)\n",
    "\n",
    "    # Write the PyArrow Table to Parquet\n",
    "    pq.write_table(table, parquet_file)\n",
    "    print(f\"Converted {csv_file} to {parquet_file}\")\n",
    "\n",
    "# Example usage\n",
    "csv_file = 'data/output_data/employee_earnings/earnings_date=2022-02-15/employee_earnings.csv'\n",
    "parquet_file = 'data/output_data/employee_earnings/earnings_date=2022-02-15/employee_earnings.parquet'\n",
    "convert_csv_to_parquet(csv_file, parquet_file)\n"
   ]
  },
  {
   "cell_type": "code",
   "execution_count": 9,
   "id": "a3237d30-adec-4a88-a88f-76e698794a7b",
   "metadata": {
    "tags": []
   },
   "outputs": [
    {
     "name": "stdout",
     "output_type": "stream",
     "text": [
      "Converted data/output_data/employee_earnings/earnings_date=2022-02-16/employee_earnings.csv to data/output_data/employee_earnings/earnings_date=2022-02-16/employee_earnings.parquet\n"
     ]
    }
   ],
   "source": [
    "csv_file = 'data/output_data/employee_earnings/earnings_date=2022-02-16/employee_earnings.csv'\n",
    "parquet_file = 'data/output_data/employee_earnings/earnings_date=2022-02-16/employee_earnings.parquet'\n",
    "convert_csv_to_parquet(csv_file, parquet_file)"
   ]
  }
 ],
 "metadata": {
  "kernelspec": {
   "display_name": "Python 3 (ipykernel)",
   "language": "python",
   "name": "python3"
  },
  "language_info": {
   "codemirror_mode": {
    "name": "ipython",
    "version": 3
   },
   "file_extension": ".py",
   "mimetype": "text/x-python",
   "name": "python",
   "nbconvert_exporter": "python",
   "pygments_lexer": "ipython3",
   "version": "3.10.6"
  }
 },
 "nbformat": 4,
 "nbformat_minor": 5
}
