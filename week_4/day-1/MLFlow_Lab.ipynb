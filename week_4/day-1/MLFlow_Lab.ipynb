{
 "cells": [
  {
   "cell_type": "markdown",
   "id": "76030479-d00f-4a67-b672-06ffe38649b9",
   "metadata": {
    "tags": []
   },
   "source": [
    "# MLFLOW\n",
    "First of all create a virtual environment and then install required dependencies. All the necessary instructions are given in the README.md file.\n",
    "After installing dependencies start jupyter-lab"
   ]
  },
  {
   "cell_type": "code",
   "execution_count": 22,
   "id": "98007f5d-4638-4e8e-b8f6-fc88c7c10e53",
   "metadata": {
    "tags": []
   },
   "outputs": [
    {
     "name": "stdout",
     "output_type": "stream",
     "text": [
      "/home/all/Documents/mlops-task/mlops-student/bin/python\n"
     ]
    }
   ],
   "source": [
    "!python -c \"import sys; print(sys.executable)\""
   ]
  },
  {
   "cell_type": "markdown",
   "id": "30fc0892-2f9b-411a-8859-80ee9a8501d9",
   "metadata": {},
   "source": [
    "\n",
    "source ml# MLFlow lab"
   ]
  },
  {
   "cell_type": "code",
   "execution_count": 23,
   "id": "927f1855-de23-43cc-ad1c-ee2a0dd03ccd",
   "metadata": {
    "tags": []
   },
   "outputs": [],
   "source": [
    "import pandas as pd"
   ]
  },
  {
   "cell_type": "code",
   "execution_count": 24,
   "id": "2f6f3284-0e10-4447-8c6a-0323e0d26d1e",
   "metadata": {
    "tags": []
   },
   "outputs": [],
   "source": [
    "import mlflow"
   ]
  },
  {
   "cell_type": "code",
   "execution_count": 25,
   "id": "8dd234da-9558-48a2-ac9e-b558660da1a6",
   "metadata": {
    "tags": []
   },
   "outputs": [
    {
     "data": {
      "text/plain": [
       "'2.0.1'"
      ]
     },
     "execution_count": 25,
     "metadata": {},
     "output_type": "execute_result"
    }
   ],
   "source": [
    "pd.__version__"
   ]
  },
  {
   "cell_type": "markdown",
   "id": "87a0110c-4c87-40c3-af3b-75072bb6f210",
   "metadata": {
    "tags": []
   },
   "source": [
    "### Setting up MLFlow tracking server\n",
    "\n",
    "We also specify artifact root and backend store URI. This makes it possible to store models.\n",
    "\n",
    "After running this command tracking server will be accessible at `localhost:5000`"
   ]
  },
  {
   "cell_type": "code",
   "execution_count": 26,
   "id": "b915f9e2-3f6e-46f4-8308-98a5330d400c",
   "metadata": {
    "tags": []
   },
   "outputs": [],
   "source": [
    "%%bash --bg\n",
    "\n",
    "mlflow server --host 0.0.0.0 \\\n",
    "    --port 5000\\\n",
    "    --backend-store-uri sqlite:///mlflow.db \\\n",
    "    --default-artifact-root ./mlruns    #path to the folder where we want to store data"
   ]
  },
  {
   "cell_type": "markdown",
   "id": "5f3df5d7-871f-44bb-ab96-bed4ab51857d",
   "metadata": {},
   "source": [
    "### MLProject file\n",
    "\n",
    "This file is used to configure MLFlow steps.\n",
    "\n",
    "Using `MLproject` we can define our project's pipeline steps, called *entry points*.\n",
    "\n",
    "Each entry point in this file corresponds to a shell command.\n",
    "\n",
    "Entry points can be ran using\n",
    "\n",
    "```\n",
    "mlflow run -e <ENTRY_POINT>\n",
    "```\n",
    "\n",
    "By default `mlflow run` runs `main` entrypoint."
   ]
  },
  {
   "cell_type": "code",
   "execution_count": 27,
   "id": "1999ca3a-1538-43a1-9a26-552924809051",
   "metadata": {
    "tags": []
   },
   "outputs": [
    {
     "name": "stdout",
     "output_type": "stream",
     "text": [
      "name: basic_mlflow\n",
      "\n",
      "# this file is used to configure Python package dependencies.\n",
      "# it uses Anaconda, but it can be also alternatively configured to use pip.\n",
      "conda_env: conda.yaml\n",
      "\n",
      "# entry points can be ran using `mlflow run <project_name> -e <entry_point_name>\n",
      "entry_points:\n",
      "  \n",
      "  main:\n",
      "    # parameters is a key-value collection.\n",
      "   \n",
      "    command: \"python train.py\"\n"
     ]
    }
   ],
   "source": [
    "%cat MLproject"
   ]
  },
  {
   "cell_type": "markdown",
   "id": "f1ad96ca-ea8a-4ed7-a989-b0ef65b3337d",
   "metadata": {},
   "source": [
    "\n",
    "source mlFirst we need to download data. We will use weather data from previous machine learning tutorial."
   ]
  },
  {
   "cell_type": "markdown",
   "id": "0a7fd2b5-536f-46f5-88d6-1e2693c473f8",
   "metadata": {},
   "source": [
    "## Training\n",
    "\n",
    "Now we can train models. See `train.py`.\n",
    "It contains code from supervised machine learning tutorial; we added tracking metrics and model.\n",
    "\n",
    "We will train kNN models for $k \\in \\{1, 2, ..., 10\\}$ using *temperature* and *casual* features.\n",
    "\n",
    "After running this command you can go to `localhost:5000` and see the trained models."
   ]
  },
  {
   "cell_type": "code",
   "execution_count": 28,
   "id": "728ad762-eae9-4448-821e-542e3a584c02",
   "metadata": {
    "tags": []
   },
   "outputs": [],
   "source": [
    "import sklearn"
   ]
  },
  {
   "cell_type": "code",
   "execution_count": 29,
   "id": "ac5438a4-abe7-4d62-93e2-7cb45129b060",
   "metadata": {
    "tags": []
   },
   "outputs": [
    {
     "data": {
      "text/plain": [
       "'1.2.2'"
      ]
     },
     "execution_count": 29,
     "metadata": {},
     "output_type": "execute_result"
    }
   ],
   "source": [
    "sklearn.__version__"
   ]
  },
  {
   "cell_type": "code",
   "execution_count": 30,
   "id": "d0c428dd-75c9-4968-bcce-4e43960ef309",
   "metadata": {
    "tags": []
   },
   "outputs": [
    {
     "name": "stderr",
     "output_type": "stream",
     "text": [
      "2023/05/08 12:37:20 INFO mlflow.utils.conda: Conda environment mlflow-dd0fbdd40ba98798131458f29496394bd1a3fb33 already exists.\n",
      "2023/05/08 12:37:20 INFO mlflow.projects.utils: === Created directory /tmp/tmpitiiw3i2 for downloading remote URIs passed to arguments of type 'path' ===\n",
      "2023/05/08 12:37:20 INFO mlflow.projects.backend.local: === Running command 'source /home/all/anaconda3/bin/../etc/profile.d/conda.sh && conda activate mlflow-dd0fbdd40ba98798131458f29496394bd1a3fb33 1>&2 && python train.py' in run with ID 'a9a74d7fc75f4bc7b8b857a6a7537f54' === \n",
      "Registered model 'sklearn_rf' already exists. Creating a new version of this model...\n",
      "2023/05/08 12:37:23 INFO mlflow.tracking._model_registry.client: Waiting up to 300 seconds for model version to finish creation. Model name: sklearn_rf, version 110\n",
      "Created version '110' of model 'sklearn_rf'.\n",
      "2023/05/08 12:37:23 INFO mlflow.projects: === Run (ID 'a9a74d7fc75f4bc7b8b857a6a7537f54') succeeded ===\n"
     ]
    }
   ],
   "source": [
    "%%bash\n",
    "source mlflow_env_vars.sh\n",
    "mlflow run .   #this dot tells to run the file in same directory, if the file is in another folder we have to give the path"
   ]
  },
  {
   "cell_type": "markdown",
   "id": "c60189ad-f9df-4fee-b866-7fd2fc326336",
   "metadata": {},
   "source": [
    "\n",
    "source ml## Inspecting stored models\n",
    "\n",
    "The trained models are stored in `mlruns/0`.\n",
    "\n",
    "These directories contain artifacts and config that is needed to serve them."
   ]
  },
  {
   "cell_type": "code",
   "execution_count": 31,
   "id": "e839cd69-ab87-4810-8d8f-458866a1ff8d",
   "metadata": {
    "tags": []
   },
   "outputs": [
    {
     "name": "stdout",
     "output_type": "stream",
     "text": [
      "artifact_path: model\n",
      "flavors:\n",
      "  python_function:\n",
      "    env:\n",
      "      conda: conda.yaml\n",
      "      virtualenv: python_env.yaml\n",
      "    loader_module: mlflow.sklearn\n",
      "    model_path: model.pkl\n",
      "    predict_fn: predict\n",
      "    python_version: 3.10.6\n",
      "  sklearn:\n",
      "    code: null\n",
      "    pickled_model: model.pkl\n",
      "    serialization_format: cloudpickle\n",
      "    sklearn_version: 1.2.2\n",
      "mlflow_version: 2.3.1\n",
      "model_uuid: 838d7f3e6391451eb61b4b3bfc43d700\n",
      "run_id: a9a74d7fc75f4bc7b8b857a6a7537f54\n",
      "utc_time_created: '2023-05-08 07:37:22.194208'\n"
     ]
    }
   ],
   "source": [
    "%%bash\n",
    "last_model_path=$(ls -tr mlruns/0/ | tail -1)\n",
    "cat mlruns/0/$last_model_path/artifacts/model/MLmodel"
   ]
  },
  {
   "cell_type": "code",
   "execution_count": 32,
   "id": "ae7a3b10-e73e-458e-a86d-73c5353af294",
   "metadata": {
    "tags": []
   },
   "outputs": [],
   "source": [
    "import mlflow"
   ]
  },
  {
   "cell_type": "code",
   "execution_count": 33,
   "id": "b492d50f-9d12-4c97-a697-bacd34eba1b8",
   "metadata": {
    "tags": []
   },
   "outputs": [
    {
     "data": {
      "text/plain": [
       "'2.3.1'"
      ]
     },
     "execution_count": 33,
     "metadata": {},
     "output_type": "execute_result"
    }
   ],
   "source": [
    "mlflow.__version__"
   ]
  },
  {
   "cell_type": "markdown",
   "id": "4a4654c1-33c9-49d1-bfac-d8090dec79f1",
   "metadata": {},
   "source": [
    "## Serving model\n",
    "\n",
    "Now that we trained our models we can go to *Models* page on MLFLow UI (http://localhost:5000/#/models).\n",
    "\n",
    "Click *sklearn_knn* on this page, choose a model and move it to *Production* stage.\n",
    "\n",
    "The following cell will serve the model at localhost on port 5009."
   ]
  },
  {
   "cell_type": "code",
   "execution_count": 34,
   "id": "ef644f7b-ad7e-4a3b-8b4e-df6a20e85290",
   "metadata": {
    "tags": []
   },
   "outputs": [],
   "source": [
    "%%bash --bg\n",
    "source mlflow_env_vars.sh\n",
    "mlflow --version\n",
    "mlflow models serve -m models:/sklearn_rf/Production -p 5009 --env-manager=conda "
   ]
  },
  {
   "cell_type": "markdown",
   "id": "7f81d979-a94c-4307-a5f6-cd95a5c4eeff",
   "metadata": {
    "tags": []
   },
   "source": [
    "# Prediction"
   ]
  },
  {
   "cell_type": "code",
   "execution_count": 39,
   "id": "4976c25c-6e25-4ff1-bbcb-3330171268ca",
   "metadata": {
    "tags": []
   },
   "outputs": [
    {
     "name": "stdout",
     "output_type": "stream",
     "text": [
      "[[13.049, 0.399, 2.43, 21.68, 71.78, 2.33, 1.8699, 0.09, 1.3, 1.06, 1.13, 2.45, 96.79]]\n"
     ]
    },
    {
     "name": "stderr",
     "output_type": "stream",
     "text": [
      "  % Total    % Received % Xferd  Average Speed   Time    Time     Time  Current\n",
      "                                 Dload  Upload   Total   Spent    Left  Speed\n",
      "100   121  100    22  100    99   1554   6993 --:--:-- --:--:-- --:--:--  8642\n"
     ]
    },
    {
     "name": "stdout",
     "output_type": "stream",
     "text": [
      "{\"predictions\": [1.0]}"
     ]
    }
   ],
   "source": [
    "%%bash \n",
    "data='[[13.049, 0.399, 2.43, 21.68, 71.78, 2.33, 1.8699, 0.09, 1.3, 1.06, 1.13, 2.45, 96.79]]'\n",
    "echo $data\n",
    "\n",
    "curl -d \"{\\\"inputs\\\": $data}\" -H 'Content-Type: application/json' 127.0.0.1:5009/invocations"
   ]
  },
  {
   "cell_type": "markdown",
   "id": "d4abd689-28c3-4abb-8465-4035d3fa780c",
   "metadata": {},
   "source": [
    "Voila! We see that the model outputs correct predictions."
   ]
  }
 ],
 "metadata": {
  "kernelspec": {
   "display_name": "mlops-student",
   "language": "python",
   "name": "mlops-student"
  },
  "language_info": {
   "codemirror_mode": {
    "name": "ipython",
    "version": 3
   },
   "file_extension": ".py",
   "mimetype": "text/x-python",
   "name": "python",
   "nbconvert_exporter": "python",
   "pygments_lexer": "ipython3",
   "version": "3.10.6"
  }
 },
 "nbformat": 4,
 "nbformat_minor": 5
}
